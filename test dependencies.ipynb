{
 "cells": [
  {
   "cell_type": "code",
   "execution_count": 2,
   "id": "64847c52",
   "metadata": {},
   "outputs": [
    {
     "name": "stdout",
     "output_type": "stream",
     "text": [
      "1.24.3\n",
      "4.3.3\n",
      "2.3.0\n"
     ]
    }
   ],
   "source": [
    "import numpy\n",
    "import gensim\n",
    "import fasttext\n",
    "import pandas\n",
    "import nltk\n",
    "\n",
    "print(numpy.__version__)      # 应为 1.24.x\n",
    "print(gensim.__version__)     # 应为 4.x\n",
    "print(pandas.__version__)     # 应为 1.x 或 2.x\n"
   ]
  }
 ],
 "metadata": {
  "kernelspec": {
   "display_name": "classifier_env",
   "language": "python",
   "name": "python3"
  },
  "language_info": {
   "codemirror_mode": {
    "name": "ipython",
    "version": 3
   },
   "file_extension": ".py",
   "mimetype": "text/x-python",
   "name": "python",
   "nbconvert_exporter": "python",
   "pygments_lexer": "ipython3",
   "version": "3.10.18"
  }
 },
 "nbformat": 4,
 "nbformat_minor": 5
}
